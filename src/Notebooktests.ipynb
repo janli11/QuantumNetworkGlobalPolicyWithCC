{
 "cells": [
  {
   "cell_type": "code",
   "execution_count": 2,
   "id": "f6c3145e",
   "metadata": {},
   "outputs": [
    {
     "name": "stdout",
     "output_type": "stream",
     "text": [
      "0\n",
      "1\n",
      "1\n",
      "1\n",
      "0.5\n",
      "0.9\n",
      "2\n",
      "0.5\n",
      "0.5\n"
     ]
    }
   ],
   "source": [
    "problist = [(1,1),(0.5,0.9),(0.5, 0.5)] # (ps,p)\n",
    "for i, (p_s, p) in enumerate(problist):\n",
    "    print(i)\n",
    "    print(p_s)\n",
    "    print(p)"
   ]
  },
  {
   "cell_type": "code",
   "execution_count": 5,
   "id": "d4a9b480",
   "metadata": {},
   "outputs": [
    {
     "data": {
      "image/png": "[encoded data removed]",
      "text/plain": [
       "<Figure size 640x480 with 1 Axes>"
      ]
     },
     "metadata": {},
     "output_type": "display_data"
    }
   ],
   "source": [
    "import matplotlib.pyplot as plt\n",
    "import numpy as np\n",
    "\n",
    "# Example data: each list is the value for one policy across 3 (p_s, p) combinations\n",
    "RL = [3, 4, 5]\n",
    "WB = [2, 5, 4]\n",
    "Predictive = [4, 3, 6]\n",
    "\n",
    "# x-axis labels showing (p_s, p) for each group\n",
    "labels = ['(1, 1)', '(0.5, 0.9)', '(0.5, 0.5)']\n",
    "\n",
    "x = np.arange(len(labels))  # [0, 1, 2]\n",
    "width = 0.2\n",
    "\n",
    "fig, ax = plt.subplots()\n",
    "\n",
    "# Bar plots: each shifted slightly so they don’t overlap\n",
    "ax.bar(x - width, RL, width, label='RL agent', color='#d38d5fff')\n",
    "ax.bar(x, WB, width, label='WB swap asap', color='#338000ff')\n",
    "ax.bar(x + width, Predictive, width, label='Predictive swap asap', color='#2c5aa0ff')\n",
    "\n",
    "# Label formatting\n",
    "ax.set_ylabel('Avg. Fidelity')\n",
    "ax.set_title('Fidelity Across Different (p_s, p) Combinations')\n",
    "ax.set_xticks(x)\n",
    "ax.set_xticklabels(labels)\n",
    "ax.legend()\n",
    "\n",
    "plt.tight_layout()\n",
    "plt.show()\n",
    "\n"
   ]
  },
  {
   "cell_type": "code",
   "execution_count": 7,
   "id": "bdd561fd",
   "metadata": {},
   "outputs": [
    {
     "name": "stdout",
     "output_type": "stream",
     "text": [
      "Filtered a: [10 30]\n",
      "Filtered b: [2. 5.]\n",
      "Result: [5. 6.]\n"
     ]
    }
   ],
   "source": [
    "import numpy as np\n",
    "\n",
    "a = np.array([10, 20, 30, 40])\n",
    "b = np.array([2, np.nan, 5, np.nan])\n",
    "\n",
    "# Create a mask for where b is NOT NaN\n",
    "mask = ~np.isnan(b)\n",
    "\n",
    "# Apply the mask to both arrays\n",
    "a_filtered = a[mask]\n",
    "b_filtered = b[mask]\n",
    "\n",
    "# Now safely divide\n",
    "result = a_filtered / b_filtered\n",
    "\n",
    "print(\"Filtered a:\", a_filtered)\n",
    "print(\"Filtered b:\", b_filtered)\n",
    "print(\"Result:\", result)"
   ]
  },
  {
   "cell_type": "code",
   "execution_count": 14,
   "id": "06fb4796",
   "metadata": {},
   "outputs": [
    {
     "name": "stdout",
     "output_type": "stream",
     "text": [
      "<class 'numpy.ndarray'>\n",
      "[1. 1. 1. 1. 1. 1. 1. 1.]\n"
     ]
    }
   ],
   "source": [
    "import numpy as np\n",
    "a = np.ones(8)\n",
    "a2 = np.array(a)\n",
    "print(type(a2))\n",
    "print(a2)\n",
    "assert np.shape(a) == (8,)"
   ]
  },
  {
   "cell_type": "code",
   "execution_count": 22,
   "id": "2f876a9b",
   "metadata": {},
   "outputs": [
    {
     "name": "stdout",
     "output_type": "stream",
     "text": [
      "[0.8, 0.6400000000000001, 0.5120000000000001]\n",
      "[1.  0.9 0.8 0.7 0.6 0.5]\n",
      "[0.9 0.8 0.7 0.6 0.5]\n"
     ]
    }
   ],
   "source": [
    "print([0.8,0.8**2,0.8**3])\n",
    "print(np.linspace(1, 0.5, 6))\n",
    "print(np.linspace(0.9, 0.5, 5))"
   ]
  },
  {
   "cell_type": "code",
   "execution_count": null,
   "id": "a33f7615",
   "metadata": {},
   "outputs": [
    {
     "name": "stdout",
     "output_type": "stream",
     "text": [
      "[[0.9, 0.81, 0.7290000000000001], [0.8200000000000001, 0.6724000000000001, 0.5513680000000001], [0.74, 0.5476, 0.405224], [0.66, 0.43560000000000004, 0.28749600000000003], [0.5800000000000001, 0.3364000000000001, 0.19511200000000006], [0.5, 0.25, 0.125]]\n",
      "[[0.9, 0.81, 0.9], [0.8200000000000001, 0.6724000000000001, 0.8200000000000001], [0.74, 0.5476, 0.74], [0.66, 0.43560000000000004, 0.66], [0.5800000000000001, 0.3364000000000001, 0.5800000000000001], [0.5, 0.25, 0.5]]\n",
      "[[0.9, 0.81, 0.7290000000000001], [0.8200000000000001, 0.6724000000000001, 0.5513680000000001], [0.74, 0.5476, 0.405224], [0.66, 0.43560000000000004, 0.28749600000000003], [0.5800000000000001, 0.3364000000000001, 0.19511200000000006], [0.5, 0.25, 0.125], [0.9, 0.81, 0.9], [0.8200000000000001, 0.6724000000000001, 0.8200000000000001], [0.74, 0.5476, 0.74], [0.66, 0.43560000000000004, 0.66], [0.5800000000000001, 0.3364000000000001, 0.5800000000000001], [0.5, 0.25, 0.5]]\n",
      "[0.8200000000000001, 0.6724000000000001, 0.5513680000000001]\n"
     ]
    },
    {
     "ename": "IndexError",
     "evalue": "list index out of range",
     "output_type": "error",
     "traceback": [
      "\u001b[0;31m---------------------------------------------------------------------------\u001b[0m",
      "\u001b[0;31mIndexError\u001b[0m                                Traceback (most recent call last)",
      "Cell \u001b[0;32mIn[22], line 8\u001b[0m\n\u001b[1;32m      6\u001b[0m \u001b[38;5;28mprint\u001b[39m(a\u001b[38;5;241m+\u001b[39mb)\n\u001b[1;32m      7\u001b[0m \u001b[38;5;28mprint\u001b[39m(a[\u001b[38;5;241m1\u001b[39m])\n\u001b[0;32m----> 8\u001b[0m \u001b[38;5;28mprint\u001b[39m(\u001b[43ma\u001b[49m\u001b[43m[\u001b[49m\u001b[38;5;241;43m1000\u001b[39;49m\u001b[43m]\u001b[49m)\n",
      "\u001b[0;31mIndexError\u001b[0m: list index out of range"
     ]
    }
   ],
   "source": [
    "import numpy as np\n",
    "a = [[pe, pe**2, pe**3] for pe in np.linspace(0.9, 0.5, 6)]\n",
    "b = [[pe, pe**2, pe] for pe in np.linspace(0.9, 0.5, 6)]\n",
    "print(a)\n",
    "print(b)\n",
    "print(a+b)\n",
    "print(a[1])"
   ]
  },
  {
   "cell_type": "code",
   "execution_count": 14,
   "id": "5dfe9f9b",
   "metadata": {},
   "outputs": [],
   "source": [
    "from qnetcc.environments.QNSimulator.QuantumNetwork import Quantum_network \n",
    "import random\n",
    "nodes, t_cut, p, p_s = 8, 10, 0.6, 0.5\n",
    "fixed_network = Quantum_network(nodes, t_cut, p, p_s)\n",
    "# setting up a fixed config\n",
    "for i in range(100): # testing muliple times\n",
    "    link_arr = [[0,7],[1,2],[4,5]]\n",
    "    end_age = random.randint(0, t_cut)\n",
    "    link_age = [end_age,5,3]\n",
    "    fixed_network.create_network(link_arr, link_age)\n",
    "    fixed_network.get_link_config()\n",
    "    fixed_network.get_fidelity()\n",
    "    assert end_age == fixed_network.get_fidelity()\n",
    "\n"
   ]
  },
  {
   "cell_type": "code",
   "execution_count": 29,
   "id": "f24ed2fb",
   "metadata": {},
   "outputs": [
    {
     "name": "stdout",
     "output_type": "stream",
     "text": [
      "True\n",
      "[False False  True]\n"
     ]
    },
    {
     "ename": "TypeError",
     "evalue": "ufunc 'isnan' not supported for the input types, and the inputs could not be safely coerced to any supported types according to the casting rule ''safe''",
     "output_type": "error",
     "traceback": [
      "\u001b[0;31m---------------------------------------------------------------------------\u001b[0m",
      "\u001b[0;31mTypeError\u001b[0m                                 Traceback (most recent call last)",
      "Cell \u001b[0;32mIn[29], line 6\u001b[0m\n\u001b[1;32m      4\u001b[0m \u001b[38;5;28mprint\u001b[39m(np\u001b[38;5;241m.\u001b[39misnan([\u001b[38;5;241m1\u001b[39m, \u001b[38;5;241m2\u001b[39m, np\u001b[38;5;241m.\u001b[39mnan]))\n\u001b[1;32m      5\u001b[0m np\u001b[38;5;241m.\u001b[39misnan([\u001b[38;5;241m1\u001b[39m,\u001b[38;5;241m2\u001b[39m,math\u001b[38;5;241m.\u001b[39mnan])\n\u001b[0;32m----> 6\u001b[0m \u001b[43mnp\u001b[49m\u001b[38;5;241;43m.\u001b[39;49m\u001b[43misnan\u001b[49m\u001b[43m(\u001b[49m\u001b[43m[\u001b[49m\u001b[38;5;241;43m1\u001b[39;49m\u001b[43m,\u001b[49m\u001b[43m \u001b[49m\u001b[38;5;241;43m2\u001b[39;49m\u001b[43m,\u001b[49m\u001b[43m \u001b[49m\u001b[38;5;28;43;01mNone\u001b[39;49;00m\u001b[43m]\u001b[49m\u001b[43m)\u001b[49m\n",
      "\u001b[0;31mTypeError\u001b[0m: ufunc 'isnan' not supported for the input types, and the inputs could not be safely coerced to any supported types according to the casting rule ''safe''"
     ]
    }
   ],
   "source": [
    "# none test\n",
    "import math\n",
    "print(np.isnan([1, 2, np.nan]).any())\n",
    "print(np.isnan([1, 2, np.nan]))\n",
    "np.isnan([1,2,math.nan])\n",
    "np.isnan([1, 2, None])"
   ]
  },
  {
   "cell_type": "code",
   "execution_count": 36,
   "id": "2dc1a43b",
   "metadata": {},
   "outputs": [
    {
     "ename": "AssertionError",
     "evalue": "",
     "output_type": "error",
     "traceback": [
      "\u001b[0;31m---------------------------------------------------------------------------\u001b[0m",
      "\u001b[0;31mAssertionError\u001b[0m                            Traceback (most recent call last)",
      "Cell \u001b[0;32mIn[36], line 5\u001b[0m\n\u001b[1;32m      3\u001b[0m data \u001b[38;5;241m=\u001b[39m [\u001b[38;5;241m1\u001b[39m, \u001b[38;5;241m2\u001b[39m, np\u001b[38;5;241m.\u001b[39mnan]\n\u001b[1;32m      4\u001b[0m \u001b[38;5;28;01massert\u001b[39;00m \u001b[38;5;28mall\u001b[39m(\u001b[38;5;28misinstance\u001b[39m(x, (\u001b[38;5;28mint\u001b[39m, \u001b[38;5;28mfloat\u001b[39m)) \u001b[38;5;28;01mfor\u001b[39;00m x \u001b[38;5;129;01min\u001b[39;00m data), \u001b[38;5;124m\"\u001b[39m\u001b[38;5;124mList contains non-numeric values\u001b[39m\u001b[38;5;124m\"\u001b[39m\n\u001b[0;32m----> 5\u001b[0m \u001b[38;5;28;01massert\u001b[39;00m \u001b[38;5;28mall\u001b[39m(\u001b[38;5;28misinstance\u001b[39m(x, (\u001b[38;5;28mint\u001b[39m, \u001b[38;5;28mfloat\u001b[39m)) \u001b[38;5;129;01mand\u001b[39;00m \u001b[38;5;129;01mnot\u001b[39;00m np\u001b[38;5;241m.\u001b[39misnan(x) \u001b[38;5;28;01mfor\u001b[39;00m x \u001b[38;5;129;01min\u001b[39;00m data)\n",
      "\u001b[0;31mAssertionError\u001b[0m: "
     ]
    }
   ],
   "source": [
    "data = [1, 2, 3]\n",
    "assert all(isinstance(x, (int, float)) for x in data), \"List contains non-numeric values\"\n",
    "data = [1, 2, np.nan]\n",
    "assert all(isinstance(x, (int, float)) for x in data), \"List contains non-numeric values\"\n",
    "assert all(isinstance(x, (int, float)) and not np.isnan(x) for x in data)"
   ]
  },
  {
   "cell_type": "code",
   "execution_count": 46,
   "id": "f3ec3890",
   "metadata": {},
   "outputs": [
    {
     "name": "stdout",
     "output_type": "stream",
     "text": [
      "[0.19999999999999996, 0, 0, 0]\n"
     ]
    },
    {
     "data": {
      "image/png": "[encoded data removed]",
      "text/plain": [
       "<Figure size 640x480 with 1 Axes>"
      ]
     },
     "metadata": {},
     "output_type": "display_data"
    }
   ],
   "source": [
    "# test relative improvements\n",
    "import matplotlib.pyplot as plt\n",
    "\n",
    "def compute_relative_improvement(a, b, c):\n",
    "    \"\"\"Return list of relative improvements where a < min(b, c), else 0.\"\"\"\n",
    "    rel_improve = []\n",
    "    for a_i, b_i, c_i in zip(a, b, c):\n",
    "        ref = min(b_i, c_i)\n",
    "        if a_i < ref:\n",
    "            rel_improve.append((ref - a_i) / ref)\n",
    "        else:\n",
    "            rel_improve.append(0)\n",
    "    return rel_improve\n",
    "\n",
    "a = [0.8, 1.0, 1.2, 8]\n",
    "b = [1.0, 1.0, 1.5, 2]\n",
    "c = [1.2, 1.5, 1.1, 3]\n",
    "\n",
    "print(compute_relative_improvement(a, b, c))\n",
    "\n",
    "def plot_improvements(rel_improve, p_list, p_s):\n",
    "    \"\"\"Plot the bar chart of relative improvements.\"\"\"\n",
    "    paired = sorted(zip(p_list, rel_improve), key=lambda pair: pair[0])\n",
    "    sorted_ps, sorted_rel = zip(*paired)\n",
    "    labels_str = [f\"{ps:.2f}\" for ps in sorted_ps]\n",
    "    indices = range(len(rel_improve))\n",
    "    plt.figure()\n",
    "    plt.bar(indices, sorted_rel)\n",
    "    plt.xticks(indices, labels_str, rotation=45, ha='right')\n",
    "    plt.ylabel('Relative Improvement')\n",
    "    plt.xlabel(r'$p_{e}$')\n",
    "    plt.title('RL agent advantage at ' + r'$p_s$' + f'={p_s}')\n",
    "    plt.tight_layout()\n",
    "    plt.show()\n",
    "\n",
    "p_list = [1, 2, 3, 4]\n",
    "\n",
    "# Compute and plot\n",
    "rel_improve = compute_relative_improvement(a, b, c)\n",
    "plot_improvements(rel_improve, p_list, p_s='test')"
   ]
  },
  {
   "cell_type": "code",
   "execution_count": 52,
   "id": "3eba0d76",
   "metadata": {},
   "outputs": [
    {
     "name": "stdout",
     "output_type": "stream",
     "text": [
      "[(1, 0.19999999999999996), (2, 0), (3, 0), (4, 0)]\n",
      "(1, 2, 3, 4) (0.19999999999999996, 0, 0, 0)\n"
     ]
    },
    {
     "data": {
      "text/plain": [
       "[(1, 0.3), (2, 0.2), (3, 0.1)]"
      ]
     },
     "execution_count": 52,
     "metadata": {},
     "output_type": "execute_result"
    }
   ],
   "source": [
    "rel_improve = compute_relative_improvement(a, b, c)\n",
    "p_list = [1, 2, 3, 4]\n",
    "paired = sorted(zip(p_list, rel_improve), key=lambda pair: pair[0])\n",
    "print(paired)\n",
    "sorted_ps, sorted_rel = zip(*paired)\n",
    "print(sorted_ps, sorted_rel)\n",
    "labels_str = [f\"{ps:.2f}\" for ps in sorted_ps]\n",
    "indices = range(len(rel_improve))\n",
    "\n",
    "\n",
    "# see what key does in zip\n",
    "p_list = [3, 1, 2]\n",
    "rel_improve = [0.1, 0.3, 0.2]\n",
    "\n",
    "list(zip(p_list, rel_improve))\n",
    "# → [(3, 0.1), (1, 0.3), (2, 0.2)]\n",
    "\n",
    "sorted(zip(p_list, rel_improve), key=lambda pair: pair[0])\n",
    "# → [(1, 0.3), (2, 0.2), (3, 0.1)]\n"
   ]
  },
  {
   "cell_type": "code",
   "execution_count": 55,
   "id": "a1516ebb",
   "metadata": {},
   "outputs": [
    {
     "name": "stdout",
     "output_type": "stream",
     "text": [
      "[(1, 1.0), (1, 0.9), (1, 0.8), (1, 0.7), (1, 0.6), (1, 0.5)]\n",
      "[(0.75, 1.0), (0.75, 0.9), (0.75, 0.8), (0.75, 0.7), (0.75, 0.6), (0.75, 0.5)]\n",
      "[(0.5, 1.0), (0.5, 0.9), (0.5, 0.8), (0.5, 0.7), (0.5, 0.6), (0.5, 0.5)]\n"
     ]
    }
   ],
   "source": [
    "p_list   = np.linspace(1, 0.5, 6)  # [1.0, 0.9, 0.8, 0.7, 0.6, 0.5]\n",
    "p_s_list = [1, 0.75, 0.5]\n",
    "\n",
    "# For each ps in p_s_list, build a sub‐list of (ps, p) for all p in p_list\n",
    "grouped_tuples = [[(ps, p) for p in p_list] for ps in p_s_list]\n",
    "for i in range(len(grouped_tuples)):\n",
    "    print(grouped_tuples[i])\n"
   ]
  },
  {
   "cell_type": "code",
   "execution_count": 56,
   "id": "666c96df",
   "metadata": {},
   "outputs": [
    {
     "data": {
      "text/plain": [
       "'1_2_3_4_5_6'"
      ]
     },
     "execution_count": 56,
     "metadata": {},
     "output_type": "execute_result"
    }
   ],
   "source": [
    "list_of_tuples = [(1, 2), (3, 4), (5, 6)]\n",
    "\"_\".join(str(val) for tup in list_of_tuples for val in tup)"
   ]
  },
  {
   "cell_type": "code",
   "execution_count": 72,
   "id": "81d78370",
   "metadata": {},
   "outputs": [
    {
     "name": "stdout",
     "output_type": "stream",
     "text": [
      "22\n"
     ]
    }
   ],
   "source": [
    "import numpy as np\n",
    "\n",
    "print(np.random.randint(20,40))"
   ]
  },
  {
   "cell_type": "code",
   "execution_count": 76,
   "id": "5cedde3f",
   "metadata": {},
   "outputs": [
    {
     "name": "stdout",
     "output_type": "stream",
     "text": [
      "Execution time: 0.144799 seconds\n"
     ]
    }
   ],
   "source": [
    "import time \n",
    "start_time = time.time()\n",
    "for i in range(int(1e7)):\n",
    "    pass\n",
    "end_time = time.time()\n",
    "print(f\"Execution time: {end_time - start_time:.6f} seconds\")"
   ]
  },
  {
   "cell_type": "code",
   "execution_count": 79,
   "id": "e0b657db",
   "metadata": {},
   "outputs": [
    {
     "name": "stdout",
     "output_type": "stream",
     "text": [
      "3.0\n",
      "2.8\n"
     ]
    }
   ],
   "source": [
    "import numpy as np\n",
    "print(np.average([1, 2, 3, 4, 5]))  # Example usage of numpy average function\n",
    "print(np.average([1, 2, 3, 3, 5])) "
   ]
  },
  {
   "cell_type": "code",
   "execution_count": null,
   "id": "14fb6c0e",
   "metadata": {},
   "outputs": [],
   "source": []
  }
 ],
 "metadata": {
  "kernelspec": {
   "display_name": "RL_env",
   "language": "python",
   "name": "python3"
  },
  "language_info": {
   "codemirror_mode": {
    "name": "ipython",
    "version": 3
   },
   "file_extension": ".py",
   "mimetype": "text/x-python",
   "name": "python",
   "nbconvert_exporter": "python",
   "pygments_lexer": "ipython3",
   "version": "3.11.3"
  }
 },
 "nbformat": 4,
 "nbformat_minor": 5
}
